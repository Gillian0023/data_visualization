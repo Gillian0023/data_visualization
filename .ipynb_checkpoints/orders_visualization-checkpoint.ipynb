{
 "cells": [
  {
   "cell_type": "code",
   "execution_count": 1,
   "metadata": {
    "collapsed": true
   },
   "outputs": [],
   "source": [
    "from pyspark.sql import SparkSession\n",
    "from pyspark.sql import functions as F\n",
    "import numpy as np\n",
    "import matplotlib.pyplot as plt\n",
    "spark = SparkSession \\\n",
    "    .builder \\\n",
    "    .appName(\"Case Study Data Exploration\") \\\n",
    "    .config(\"spark.sql.broadcastTimeout\", \"36000\") \\\n",
    "    .getOrCreate()\n",
    "orders_date = spark.read.csv('orders_date.csv',header=True)\n",
    "orders_tickets = spark.read.csv('orders_tickets.csv',header=True)"
   ]
  },
  {
   "cell_type": "code",
   "execution_count": 2,
   "metadata": {},
   "outputs": [
    {
     "data": {
      "text/plain": [
       "2054059"
      ]
     },
     "execution_count": 2,
     "metadata": {},
     "output_type": "execute_result"
    }
   ],
   "source": [
    "orders_date.count()"
   ]
  },
  {
   "cell_type": "code",
   "execution_count": 3,
   "metadata": {},
   "outputs": [
    {
     "data": {
      "text/plain": [
       "1999716"
      ]
     },
     "execution_count": 3,
     "metadata": {},
     "output_type": "execute_result"
    }
   ],
   "source": [
    "orders_tickets.count()"
   ]
  },
  {
   "cell_type": "code",
   "execution_count": 2,
   "metadata": {
    "collapsed": true
   },
   "outputs": [],
   "source": [
    "orders_date = orders_date.drop_duplicates()\n",
    "orders_tickets = orders_tickets.drop_duplicates()\n",
    "orders = orders_date.join(orders_tickets,orders_date['id'] == orders_tickets['id']).drop(orders_tickets['id'])\n",
    "orders = orders.withColumn('date',F.to_date(orders['date']).alias('date'))\n",
    "orders = orders.withColumn('month',F.month(orders['date']).alias('month'))\n",
    "orders = orders.withColumn('year',F.year(orders['date']).alias('year'))\n",
    "orders = orders.withColumn('week', F.date_format('date', 'u').alias('week'))\n",
    "orders = orders.withColumn('day', F.dayofmonth('date').alias('day'))"
   ]
  },
  {
   "cell_type": "code",
   "execution_count": 5,
   "metadata": {},
   "outputs": [
    {
     "data": {
      "text/plain": [
       "1997450"
      ]
     },
     "execution_count": 5,
     "metadata": {},
     "output_type": "execute_result"
    }
   ],
   "source": [
    "orders.count()"
   ]
  },
  {
   "cell_type": "code",
   "execution_count": null,
   "metadata": {
    "collapsed": true
   },
   "outputs": [],
   "source": [
    "sales_per_type = orders.groupBy('type').agg({'n_tickets': 'sum'}).orderBy('sum(n_tickets)',ascending = False)\n",
    "sales_per_type_rdd = sales_per_type.rdd.map(lambda row : (row[0],row[1]))\n",
    "type = sales_per_type_rdd.map(lambda row :row[0]).collect()\n",
    "sales = sales_per_type_rdd.map(lambda row : row[1]).collect()\n",
    "plt.figure(figsize=plt.figaspect(1))\n",
    "explode = (0, 0.1)  # explode 1st slice\n",
    "colors =['C2','C1']\n",
    "def make_autopct(value):\n",
    "    def my_autopct(pct):\n",
    "        total = sum(value)\n",
    "        val = int(round(pct*total/100.0))\n",
    "        return '{v:d}\\n({p:.2f}%)'.format(p=pct,v=val)\n",
    "    return my_autopct\n",
    "plt.pie(sales, explode=explode,labels=type, shadow=True,autopct=make_autopct(sales),startangle=50,colors = colors)\n",
    "plt.title('Sales_Per_Type',size=15)\n",
    "plt.savefig('Figures/Sales_Per_Type.eps', format='eps',bbox_inches='tight',transparent=True)\n",
    "plt.show()"
   ]
  },
  {
   "cell_type": "code",
   "execution_count": null,
   "metadata": {
    "collapsed": true
   },
   "outputs": [],
   "source": [
    "sales_per_channel = orders.groupBy('channel_id').agg({'n_tickets': 'sum'}).orderBy('sum(n_tickets)',ascending = False)\n",
    "sales_per_channel_rdd = sales_per_channel.rdd.map(lambda row : (row[0],row[1]))\n",
    "channel = sales_per_channel_rdd.map(lambda row :row[0]).collect()\n",
    "sales = sales_per_channel_rdd.map(lambda row : row[1]).collect()\n",
    "plt.rcParams[\"figure.figsize\"] = (18, 6)\n",
    "X = np.arange(len(channel))\n",
    "plt.bar(X, sales, width=0.8, edgecolor='white', align='center',color = 'C1')\n",
    "plt.title('Sales_Per_Channel', size=20)\n",
    "\n",
    "for a, b in zip(X, sales):\n",
    "    plt.text(a, b, str(b), ha='center', va='bottom',rotation = 90)\n",
    "\n",
    "plt.xticks(X, channel)\n",
    "plt.savefig('Figures/Sales_Per_Channel.eps', format='eps',bbox_inches='tight',transparent=True)\n",
    "# plt.xlabel('language',size=15)\n",
    "# plt.ylabel('Tweet_count',size=15)\n",
    "plt.show()"
   ]
  },
  {
   "cell_type": "code",
   "execution_count": null,
   "metadata": {
    "collapsed": true
   },
   "outputs": [],
   "source": [
    "sales_per_month = orders.filter(orders['year'] == 2017).groupBy('month').agg({'n_tickets': 'sum'}).orderBy('month',ascending = True)\n",
    "sales_per_month_rdd = sales_per_month.rdd.map(lambda row : (row[0],row[1]))\n",
    "month = sales_per_month_rdd.map(lambda row :row[0]).collect()\n",
    "sales = sales_per_month_rdd.map(lambda row : row[1]).collect()\n",
    "plt.rcParams[\"figure.figsize\"] = (15, 6)\n",
    "X = np.arange(len(month))\n",
    "plt.bar(X, sales, width=0.8, edgecolor='white', align='center',color= 'C1')\n",
    "plt.title('Sales_Per_Month(2017)', size=20)\n",
    "\n",
    "for a, b in zip(X, sales):\n",
    "    plt.text(a, b, str(b), ha='center', va='bottom',rotation = 90)\n",
    "\n",
    "month = ['Jan','Feb','Mar','Apr','May','Jun','Jul','Aug','Sep','Oct','Nov','Dec']\n",
    "plt.xticks(X, month)\n",
    "plt.ylim(ymin=100000)\n",
    "plt.savefig('Figures/Sales_Per_Month(2017).eps', format='eps',bbox_inches='tight',transparent=True)\n",
    "# plt.xlabel('language',size=15)\n",
    "# plt.ylabel('Tweet_count',size=15)\n",
    "plt.show()"
   ]
  },
  {
   "cell_type": "code",
   "execution_count": null,
   "metadata": {
    "collapsed": true
   },
   "outputs": [],
   "source": [
    "sales_per_month = orders.filter(orders['year'] == 2018).groupBy('month').agg({'n_tickets': 'sum'}).orderBy('month',ascending = True)\n",
    "sales_per_month_rdd = sales_per_month.rdd.map(lambda row : (row[0],row[1]))\n",
    "month = sales_per_month_rdd.map(lambda row :row[0]).collect()\n",
    "sales = sales_per_month_rdd.map(lambda row : row[1]).collect()\n",
    "plt.rcParams[\"figure.figsize\"] = (7, 5)\n",
    "X = np.arange(len(month))\n",
    "plt.bar(X, sales, width=0.3, edgecolor='white', align='center',color= 'C1')\n",
    "plt.title('Sales_Per_Month(2018)', size=20)\n",
    "\n",
    "for a, b in zip(X, sales):\n",
    "    plt.text(a, b, str(b), ha='center', va='bottom',rotation = 90)\n",
    "\n",
    "#month = ['Jan','Feb','Mar','Apr','May','Jun','Jul','Aug','Sep','Oct','Nov','Dec']\n",
    "plt.xticks(X, month)\n",
    "plt.ylim(ymin=100000)\n",
    "plt.savefig('Figures/Sales_Per_Month(2018).eps', format='eps',bbox_inches='tight',transparent=True)\n",
    "# plt.xlabel('language',size=15)\n",
    "# plt.ylabel('Tweet_count',size=15)\n",
    "plt.show()"
   ]
  },
  {
   "cell_type": "code",
   "execution_count": null,
   "metadata": {
    "collapsed": true
   },
   "outputs": [],
   "source": [
    "sales_per_week = orders.filter(orders['year'] == 2017).groupBy('week').agg({'n_tickets': 'sum'}).orderBy('week',ascending = True)\n",
    "sales_per_week_rdd = sales_per_week.rdd.map(lambda row : (row[0],row[1]))\n",
    "week = sales_per_week_rdd.map(lambda row :row[0]).collect()\n",
    "sales = sales_per_week_rdd.map(lambda row : row[1]).collect()#\n",
    "plt.rcParams[\"figure.figsize\"] = (10, 6)\n",
    "X = np.arange(len(week))\n",
    "plt.bar(X, sales, width=0.8, edgecolor='white', align='center',color = 'C1')\n",
    "plt.title('Sales_Per_Week(2017)', size=20)\n",
    "\n",
    "for a, b in zip(X, sales):\n",
    "    plt.text(a, b, str(b), ha='center', va='bottom',rotation = 90)\n",
    "week = ['Mon','Tue','Wed','Thu','Fri','Sat','Sun']\n",
    "\n",
    "plt.xticks(X, week)\n",
    "plt.ylim(ymin=300000)\n",
    "plt.savefig('Figures/Sales_Per_Week(2017).eps', format='eps',bbox_inches='tight',transparent=True)\n",
    "# plt.xlabel('language',size=15)\n",
    "# plt.ylabel('Tweet_count',size=15)\n",
    "plt.show()"
   ]
  },
  {
   "cell_type": "code",
   "execution_count": null,
   "metadata": {
    "collapsed": true
   },
   "outputs": [],
   "source": [
    "sales_per_week = orders.filter(orders['year'] == 2018).groupBy('week').agg({'n_tickets': 'sum'}).orderBy('week',ascending = True)\n",
    "sales_per_week_rdd = sales_per_week.rdd.map(lambda row : (row[0],row[1]))\n",
    "week = sales_per_week_rdd.map(lambda row :row[0]).collect()\n",
    "sales = sales_per_week_rdd.map(lambda row : row[1]).collect()#\n",
    "plt.rcParams[\"figure.figsize\"] = (10, 6)\n",
    "X = np.arange(len(week))\n",
    "plt.bar(X, sales, width=0.8, edgecolor='white', align='center',color = 'C1')\n",
    "plt.title('Sales_Per_Week(2018)', size=20)\n",
    "\n",
    "for a, b in zip(X, sales):\n",
    "    plt.text(a, b, str(b), ha='center', va='bottom',rotation = 90)\n",
    "week = ['Mon','Tue','Wed','Thu','Fri','Sat','Sun']\n",
    "\n",
    "plt.xticks(X, week)\n",
    "plt.ylim(ymin=50000)\n",
    "plt.savefig('Figures/Sales_Per_Week(2018).eps', format='eps',bbox_inches='tight',transparent=True)\n",
    "# plt.xlabel('language',size=15)\n",
    "# plt.ylabel('Tweet_count',size=15)\n",
    "plt.show()"
   ]
  }
 ],
 "metadata": {
  "kernelspec": {
   "display_name": "Python 3",
   "language": "python",
   "name": "python3"
  },
  "language_info": {
   "codemirror_mode": {
    "name": "ipython",
    "version": 3
   },
   "file_extension": ".py",
   "mimetype": "text/x-python",
   "name": "python",
   "nbconvert_exporter": "python",
   "pygments_lexer": "ipython3",
   "version": "3.6.3"
  }
 },
 "nbformat": 4,
 "nbformat_minor": 2
}
